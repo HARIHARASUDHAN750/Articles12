{
 "cells": [
  {
   "cell_type": "code",
   "execution_count": 34,
   "id": "bb09012f-bf4e-44b5-b333-8ce75aedff9f",
   "metadata": {},
   "outputs": [],
   "source": [
    "import pandas as pd"
   ]
  },
  {
   "cell_type": "code",
   "execution_count": 35,
   "id": "bc441aa1-6821-4fb6-9af4-03d7f6d9b5bd",
   "metadata": {},
   "outputs": [],
   "source": [
    "import chardet"
   ]
  },
  {
   "cell_type": "code",
   "execution_count": 36,
   "id": "160d7d04-90a9-457e-a682-31aea13877da",
   "metadata": {},
   "outputs": [],
   "source": [
    "with open('articles.csv', 'rb') as f:\n",
    "    result = chardet.detect(f.read())\n",
    "    encoding = result['encoding']\n",
    "\n",
    "art = pd.read_csv('articles.csv', encoding=encoding)"
   ]
  },
  {
   "cell_type": "code",
   "execution_count": 37,
   "id": "6ea18664-8249-4313-8b32-485f38f008cc",
   "metadata": {},
   "outputs": [
    {
     "name": "stdout",
     "output_type": "stream",
     "text": [
      "                                     Id  \\\n",
      "0  d6995462-5e87-453b-b64d-e9f1df6e94d2   \n",
      "1  8b05e939-a89e-4548-b92b-013822e8ee7d   \n",
      "2  69fcd400-bceb-4255-8277-619f2d68ac0b   \n",
      "3  17943578-c11b-414b-b3f5-063d3a93157b   \n",
      "4  f33c7b11-5f77-4a98-bb2e-d36689042aea   \n",
      "\n",
      "                                             Heading  \\\n",
      "0  A Puzzling Maneuver, Then Freefall: NTSB Repor...   \n",
      "1  Bell’s Nexus Air Taxi Concept Rings Changes Fo...   \n",
      "2                Bell Helicopter Show Air Taxi Nexus   \n",
      "3  BELL DÉVOILE LA CONCEPTION INTÉGRALE DE SON TA...   \n",
      "4             Les premiers retours d’Olivier Ezratty   \n",
      "\n",
      "                                Article.Banner.Image                Outlets  \\\n",
      "0                                                NaN           Essex Caller   \n",
      "1                                                NaN  Aviation Week Network   \n",
      "2  http://images.tmtpost.com/uploads/images/2019/...                TMTPost   \n",
      "3  http://www.fredzone.org/wp-content/uploads/201...               Fredzone   \n",
      "4                                                NaN              FrenchWeb   \n",
      "\n",
      "                                 Article.Description  \\\n",
      "0  <p>The helicopter that crashed in Southeast Al...   \n",
      "1  <p>A year after teasing the fledgling electric...   \n",
      "2  <p>Bell released the full-size design of the v...   \n",
      "3  <p>Bell est une soci&eacute;t&eacute; am&eacut...   \n",
      "4  <p>It was still anecdotal to observe the explo...   \n",
      "\n",
      "                                        Full_Article Article_Type  Tonality  \n",
      "0  <p>The helicopter that crashed in Southeast Al...   Commercial  Negative  \n",
      "1  <p>A year after teasing the fledgling electric...   Commercial  Positive  \n",
      "2  <p>Bell released the full-size design of the v...   Commercial  Positive  \n",
      "3  <p>Bell est une soci&eacute;t&eacute; am&eacut...   Commercial  Positive  \n",
      "4  <p>It was still anecdotal to observe the explo...   Commercial  Positive  \n"
     ]
    }
   ],
   "source": [
    "print(art.head())"
   ]
  },
  {
   "cell_type": "code",
   "execution_count": 38,
   "id": "09e03b6e-bf59-4b44-a34f-c5197a516e13",
   "metadata": {},
   "outputs": [
    {
     "data": {
      "text/html": [
       "<div>\n",
       "<style scoped>\n",
       "    .dataframe tbody tr th:only-of-type {\n",
       "        vertical-align: middle;\n",
       "    }\n",
       "\n",
       "    .dataframe tbody tr th {\n",
       "        vertical-align: top;\n",
       "    }\n",
       "\n",
       "    .dataframe thead th {\n",
       "        text-align: right;\n",
       "    }\n",
       "</style>\n",
       "<table border=\"1\" class=\"dataframe\">\n",
       "  <thead>\n",
       "    <tr style=\"text-align: right;\">\n",
       "      <th></th>\n",
       "      <th>Id</th>\n",
       "      <th>Heading</th>\n",
       "      <th>Article.Banner.Image</th>\n",
       "      <th>Outlets</th>\n",
       "      <th>Article.Description</th>\n",
       "      <th>Full_Article</th>\n",
       "      <th>Article_Type</th>\n",
       "      <th>Tonality</th>\n",
       "    </tr>\n",
       "  </thead>\n",
       "  <tbody>\n",
       "    <tr>\n",
       "      <th>4300</th>\n",
       "      <td>a40e5017-0a38-4d06-bcbe-616b73456c94</td>\n",
       "      <td>Chinook Catches Army Flirting With Younger, Th...</td>\n",
       "      <td>https://www.duffelblog.com/wp-content/uploads/...</td>\n",
       "      <td>Duffel Blog</td>\n",
       "      <td>Long rumored tensions came to a head as the CH...</td>\n",
       "      <td>&lt;p&gt;Long rumored tensions came to a head as the...</td>\n",
       "      <td>Military</td>\n",
       "      <td>NaN</td>\n",
       "    </tr>\n",
       "    <tr>\n",
       "      <th>4301</th>\n",
       "      <td>782ba519-bcb0-4ef1-873d-713a18b04576</td>\n",
       "      <td>Lufthansa Aviation Selects Reiser Simulation H...</td>\n",
       "      <td>NaN</td>\n",
       "      <td>Vertical</td>\n",
       "      <td>&lt;p&gt;In the course of upcoming investments in ne...</td>\n",
       "      <td>&lt;p&gt;In the course of upcoming investments in ne...</td>\n",
       "      <td>Commercial</td>\n",
       "      <td>Positive</td>\n",
       "    </tr>\n",
       "    <tr>\n",
       "      <th>4302</th>\n",
       "      <td>deb31e5d-15c0-4c1d-843c-ce02e9081746</td>\n",
       "      <td>This Bell Flight Drone Won’t Be Delivering Pizza</td>\n",
       "      <td>NaN</td>\n",
       "      <td>WFAA-TV ABC (Dallas, TX)</td>\n",
       "      <td>&lt;p&gt;At Bell Flight in Fort Worth, engineers are...</td>\n",
       "      <td>&lt;p&gt;At Bell Flight in Fort Worth, engineers are...</td>\n",
       "      <td>Military</td>\n",
       "      <td>Positive</td>\n",
       "    </tr>\n",
       "    <tr>\n",
       "      <th>4303</th>\n",
       "      <td>f7125b1d-a687-469b-a799-c8cb4443b1d1</td>\n",
       "      <td>Blade Offers New York Airport Transfers for $1...</td>\n",
       "      <td>https://assets.bwbx.io/images/users/iqjWHBFdfx...</td>\n",
       "      <td>Bloomberg</td>\n",
       "      <td>&lt;p&gt;Getting to this price point took about five...</td>\n",
       "      <td>&lt;p&gt;Getting to this price point took about five...</td>\n",
       "      <td>Commercial</td>\n",
       "      <td>Positive</td>\n",
       "    </tr>\n",
       "    <tr>\n",
       "      <th>4304</th>\n",
       "      <td>c0d27375-9fc2-43dc-b709-26a2c48c462b</td>\n",
       "      <td>US ‘Little Birds’ Flying to Lebanon</td>\n",
       "      <td>https://www.arabianaerospace.aero/media/images...</td>\n",
       "      <td>Arabian Aerospace</td>\n",
       "      <td>Lebanon is to receive a new $120 Million US mi...</td>\n",
       "      <td>&lt;p&gt;Lebanon is to receive a new $120 Million US...</td>\n",
       "      <td>Military</td>\n",
       "      <td>NaN</td>\n",
       "    </tr>\n",
       "  </tbody>\n",
       "</table>\n",
       "</div>"
      ],
      "text/plain": [
       "                                        Id  \\\n",
       "4300  a40e5017-0a38-4d06-bcbe-616b73456c94   \n",
       "4301  782ba519-bcb0-4ef1-873d-713a18b04576   \n",
       "4302  deb31e5d-15c0-4c1d-843c-ce02e9081746   \n",
       "4303  f7125b1d-a687-469b-a799-c8cb4443b1d1   \n",
       "4304  c0d27375-9fc2-43dc-b709-26a2c48c462b   \n",
       "\n",
       "                                                Heading  \\\n",
       "4300  Chinook Catches Army Flirting With Younger, Th...   \n",
       "4301  Lufthansa Aviation Selects Reiser Simulation H...   \n",
       "4302   This Bell Flight Drone Won’t Be Delivering Pizza   \n",
       "4303  Blade Offers New York Airport Transfers for $1...   \n",
       "4304                US ‘Little Birds’ Flying to Lebanon   \n",
       "\n",
       "                                   Article.Banner.Image  \\\n",
       "4300  https://www.duffelblog.com/wp-content/uploads/...   \n",
       "4301                                                NaN   \n",
       "4302                                                NaN   \n",
       "4303  https://assets.bwbx.io/images/users/iqjWHBFdfx...   \n",
       "4304  https://www.arabianaerospace.aero/media/images...   \n",
       "\n",
       "                       Outlets  \\\n",
       "4300               Duffel Blog   \n",
       "4301                  Vertical   \n",
       "4302  WFAA-TV ABC (Dallas, TX)   \n",
       "4303                 Bloomberg   \n",
       "4304         Arabian Aerospace   \n",
       "\n",
       "                                    Article.Description  \\\n",
       "4300  Long rumored tensions came to a head as the CH...   \n",
       "4301  <p>In the course of upcoming investments in ne...   \n",
       "4302  <p>At Bell Flight in Fort Worth, engineers are...   \n",
       "4303  <p>Getting to this price point took about five...   \n",
       "4304  Lebanon is to receive a new $120 Million US mi...   \n",
       "\n",
       "                                           Full_Article Article_Type  Tonality  \n",
       "4300  <p>Long rumored tensions came to a head as the...     Military       NaN  \n",
       "4301  <p>In the course of upcoming investments in ne...   Commercial  Positive  \n",
       "4302  <p>At Bell Flight in Fort Worth, engineers are...     Military  Positive  \n",
       "4303  <p>Getting to this price point took about five...   Commercial  Positive  \n",
       "4304  <p>Lebanon is to receive a new $120 Million US...     Military       NaN  "
      ]
     },
     "execution_count": 38,
     "metadata": {},
     "output_type": "execute_result"
    }
   ],
   "source": [
    "art.tail()"
   ]
  },
  {
   "cell_type": "markdown",
   "id": "96bb8d28-933e-4940-a5ff-a3d6ddd8562a",
   "metadata": {},
   "source": [
    "### Preprocessing"
   ]
  },
  {
   "cell_type": "code",
   "execution_count": 39,
   "id": "b383769c-fa32-4d01-9eaf-c48926b77b13",
   "metadata": {},
   "outputs": [],
   "source": [
    "import re"
   ]
  },
  {
   "cell_type": "code",
   "execution_count": 40,
   "id": "c3200b4f-966e-4db1-964e-aac498b50d60",
   "metadata": {},
   "outputs": [],
   "source": [
    "def clean_text(text):\n",
    "    text = re.sub(r'\\s+', ' ',text)\n",
    "    text = re.sub(r'[^\\W\\S]', '',text)\n",
    "    return text.lower()\n",
    "\n"
   ]
  },
  {
   "cell_type": "code",
   "execution_count": null,
   "id": "a7136070-efbb-45ea-beb8-ebcdf6473eb1",
   "metadata": {},
   "outputs": [],
   "source": [
    "art['cleaned_text'] = df['article_content'].apply(cleaned_text)"
   ]
  },
  {
   "cell_type": "markdown",
   "id": "467c1814-334c-45f1-b4d4-200da4891e9c",
   "metadata": {},
   "source": [
    "### Vectorization"
   ]
  },
  {
   "cell_type": "code",
   "execution_count": 41,
   "id": "bccce63c-66fb-48c7-890b-77684426002e",
   "metadata": {},
   "outputs": [
    {
     "ename": "OSError",
     "evalue": "[WinError 126] The specified module could not be found. Error loading \"C:\\Users\\HARIHARASUDHAN\\AppData\\Roaming\\Python\\Python311\\site-packages\\torch\\lib\\fbgemm.dll\" or one of its dependencies.",
     "output_type": "error",
     "traceback": [
      "\u001b[1;31m---------------------------------------------------------------------------\u001b[0m",
      "\u001b[1;31mOSError\u001b[0m                                   Traceback (most recent call last)",
      "Cell \u001b[1;32mIn[41], line 1\u001b[0m\n\u001b[1;32m----> 1\u001b[0m \u001b[38;5;28;01mfrom\u001b[39;00m \u001b[38;5;21;01msentence_transformers\u001b[39;00m \u001b[38;5;28;01mimport\u001b[39;00m SenternceTransformer\n",
      "File \u001b[1;32m~\\AppData\\Roaming\\Python\\Python311\\site-packages\\sentence_transformers\\__init__.py:7\u001b[0m\n\u001b[0;32m      4\u001b[0m \u001b[38;5;28;01mimport\u001b[39;00m \u001b[38;5;21;01mimportlib\u001b[39;00m\n\u001b[0;32m      5\u001b[0m \u001b[38;5;28;01mimport\u001b[39;00m \u001b[38;5;21;01mos\u001b[39;00m\n\u001b[1;32m----> 7\u001b[0m \u001b[38;5;28;01mfrom\u001b[39;00m \u001b[38;5;21;01msentence_transformers\u001b[39;00m\u001b[38;5;21;01m.\u001b[39;00m\u001b[38;5;21;01mcross_encoder\u001b[39;00m\u001b[38;5;21;01m.\u001b[39;00m\u001b[38;5;21;01mCrossEncoder\u001b[39;00m \u001b[38;5;28;01mimport\u001b[39;00m CrossEncoder\n\u001b[0;32m      8\u001b[0m \u001b[38;5;28;01mfrom\u001b[39;00m \u001b[38;5;21;01msentence_transformers\u001b[39;00m\u001b[38;5;21;01m.\u001b[39;00m\u001b[38;5;21;01mdatasets\u001b[39;00m \u001b[38;5;28;01mimport\u001b[39;00m ParallelSentencesDataset, SentencesDataset\n\u001b[0;32m      9\u001b[0m \u001b[38;5;28;01mfrom\u001b[39;00m \u001b[38;5;21;01msentence_transformers\u001b[39;00m\u001b[38;5;21;01m.\u001b[39;00m\u001b[38;5;21;01mLoggingHandler\u001b[39;00m \u001b[38;5;28;01mimport\u001b[39;00m LoggingHandler\n",
      "File \u001b[1;32m~\\AppData\\Roaming\\Python\\Python311\\site-packages\\sentence_transformers\\cross_encoder\\__init__.py:1\u001b[0m\n\u001b[1;32m----> 1\u001b[0m \u001b[38;5;28;01mfrom\u001b[39;00m \u001b[38;5;21;01m.\u001b[39;00m\u001b[38;5;21;01mCrossEncoder\u001b[39;00m \u001b[38;5;28;01mimport\u001b[39;00m CrossEncoder\n\u001b[0;32m      3\u001b[0m __all__ \u001b[38;5;241m=\u001b[39m [\u001b[38;5;124m\"\u001b[39m\u001b[38;5;124mCrossEncoder\u001b[39m\u001b[38;5;124m\"\u001b[39m]\n",
      "File \u001b[1;32m~\\AppData\\Roaming\\Python\\Python311\\site-packages\\sentence_transformers\\cross_encoder\\CrossEncoder.py:7\u001b[0m\n\u001b[0;32m      4\u001b[0m \u001b[38;5;28;01mfrom\u001b[39;00m \u001b[38;5;21;01mtyping\u001b[39;00m \u001b[38;5;28;01mimport\u001b[39;00m Callable, Dict, List, Literal, Optional, Tuple, Type, Union\n\u001b[0;32m      6\u001b[0m \u001b[38;5;28;01mimport\u001b[39;00m \u001b[38;5;21;01mnumpy\u001b[39;00m \u001b[38;5;28;01mas\u001b[39;00m \u001b[38;5;21;01mnp\u001b[39;00m\n\u001b[1;32m----> 7\u001b[0m \u001b[38;5;28;01mimport\u001b[39;00m \u001b[38;5;21;01mtorch\u001b[39;00m\n\u001b[0;32m      8\u001b[0m \u001b[38;5;28;01mfrom\u001b[39;00m \u001b[38;5;21;01mtorch\u001b[39;00m \u001b[38;5;28;01mimport\u001b[39;00m Tensor, nn\n\u001b[0;32m      9\u001b[0m \u001b[38;5;28;01mfrom\u001b[39;00m \u001b[38;5;21;01mtorch\u001b[39;00m\u001b[38;5;21;01m.\u001b[39;00m\u001b[38;5;21;01moptim\u001b[39;00m \u001b[38;5;28;01mimport\u001b[39;00m Optimizer\n",
      "File \u001b[1;32m~\\AppData\\Roaming\\Python\\Python311\\site-packages\\torch\\__init__.py:148\u001b[0m\n\u001b[0;32m    146\u001b[0m                 err \u001b[38;5;241m=\u001b[39m ctypes\u001b[38;5;241m.\u001b[39mWinError(ctypes\u001b[38;5;241m.\u001b[39mget_last_error())\n\u001b[0;32m    147\u001b[0m                 err\u001b[38;5;241m.\u001b[39mstrerror \u001b[38;5;241m+\u001b[39m\u001b[38;5;241m=\u001b[39m \u001b[38;5;124mf\u001b[39m\u001b[38;5;124m'\u001b[39m\u001b[38;5;124m Error loading \u001b[39m\u001b[38;5;124m\"\u001b[39m\u001b[38;5;132;01m{\u001b[39;00mdll\u001b[38;5;132;01m}\u001b[39;00m\u001b[38;5;124m\"\u001b[39m\u001b[38;5;124m or one of its dependencies.\u001b[39m\u001b[38;5;124m'\u001b[39m\n\u001b[1;32m--> 148\u001b[0m                 \u001b[38;5;28;01mraise\u001b[39;00m err\n\u001b[0;32m    150\u001b[0m     kernel32\u001b[38;5;241m.\u001b[39mSetErrorMode(prev_error_mode)\n\u001b[0;32m    153\u001b[0m \u001b[38;5;28;01mdef\u001b[39;00m \u001b[38;5;21m_preload_cuda_deps\u001b[39m(lib_folder, lib_name):\n",
      "\u001b[1;31mOSError\u001b[0m: [WinError 126] The specified module could not be found. Error loading \"C:\\Users\\HARIHARASUDHAN\\AppData\\Roaming\\Python\\Python311\\site-packages\\torch\\lib\\fbgemm.dll\" or one of its dependencies."
     ]
    }
   ],
   "source": [
    "from sentence_transformers import SenternceTransformer"
   ]
  },
  {
   "cell_type": "code",
   "execution_count": null,
   "id": "1dcce26c-729e-4f14-80de-e4e07675ac80",
   "metadata": {},
   "outputs": [],
   "source": [
    "model = SentenceTransformer('paraphrase-MiniLM-L6-v2')"
   ]
  },
  {
   "cell_type": "code",
   "execution_count": null,
   "id": "2b7db963-29ee-4149-8046-c3813671e150",
   "metadata": {},
   "outputs": [],
   "source": [
    "embeddings = model.encode(art['cleaned_text'].tolist())"
   ]
  },
  {
   "cell_type": "markdown",
   "id": "7f63dcca-1ce7-4706-8064-6e7fd6d9bee4",
   "metadata": {},
   "source": [
    "### Select and Train ML Classifier Model"
   ]
  },
  {
   "cell_type": "code",
   "execution_count": null,
   "id": "207a1603-617a-49f1-a1e1-8ef5113d75f6",
   "metadata": {},
   "outputs": [],
   "source": [
    "from sklearn.model_selection import train_test_split\n",
    "from sklearn.linear_model import LogisticRegression\n",
    "from sklearn.Pipeline import make_pipeline\n",
    "from sklearn.preprocessing import StandarScaler\n",
    "from sklearn.metrics import classification_report"
   ]
  },
  {
   "cell_type": "code",
   "execution_count": null,
   "id": "6ba8a175-7724-440a-b20f-7ba8b79cca35",
   "metadata": {},
   "outputs": [],
   "source": [
    "#prepare Data for Training\n",
    "X_train, X_test, Y_train, Y_test = train_test_split(embeddings, art['Article_type'], test_size=0.2,random_state=42)"
   ]
  },
  {
   "cell_type": "code",
   "execution_count": null,
   "id": "dc99962f-fec9-41ed-9f34-0e5e92524db9",
   "metadata": {},
   "outputs": [],
   "source": [
    "clf = LogisticRegression(max_iter=1000)\n",
    "clf.fit(X_train, Y_train)"
   ]
  },
  {
   "cell_type": "code",
   "execution_count": null,
   "id": "38df54aa-79e3-427e-b581-c934d7b139e1",
   "metadata": {},
   "outputs": [],
   "source": [
    "#predict and evaluate\n",
    "y_pred = clf.predict(X_test)\n",
    "print(classificatio_report(y_test,y_pred))"
   ]
  },
  {
   "cell_type": "markdown",
   "id": "1c99243c-c0d4-4448-af11-00447b2d7a73",
   "metadata": {},
   "source": [
    "### Hyper Parameter Tuning"
   ]
  },
  {
   "cell_type": "code",
   "execution_count": null,
   "id": "99564465-31c0-4e4f-8182-19cda92b3ee0",
   "metadata": {},
   "outputs": [],
   "source": [
    "from sklearn.model_selection import GridSearchCV"
   ]
  },
  {
   "cell_type": "code",
   "execution_count": null,
   "id": "135a44ea-c15d-416c-b17e-cef040afda35",
   "metadata": {},
   "outputs": [],
   "source": [
    "parameters = {'C': [0.1, 1, 10]}\n",
    "grid_search = GridSearchCV(LogisticRegression(max_iter=1000), parameters, cv=5)\n",
    "grid_search.fit(X_train, Y_train)"
   ]
  },
  {
   "cell_type": "code",
   "execution_count": null,
   "id": "b8cf43fc-bbb8-4b11-8d79-81d0e093bb7d",
   "metadata": {},
   "outputs": [],
   "source": [
    "print('f Best Parameters: {grid_search.best_params_}')"
   ]
  },
  {
   "cell_type": "markdown",
   "id": "3ea88a78-839d-4b1a-b76c-3f95f4a18f95",
   "metadata": {},
   "source": [
    "### Validate and Evaluate Accuracy"
   ]
  },
  {
   "cell_type": "code",
   "execution_count": null,
   "id": "9504359f-6b47-4366-8934-d0a9c8e0bbad",
   "metadata": {},
   "outputs": [],
   "source": [
    "from sklearn.model_selection import cross_val_score\n"
   ]
  },
  {
   "cell_type": "code",
   "execution_count": null,
   "id": "99dacd7e-5e58-4f0d-a83a-3cd4f37f7c49",
   "metadata": {},
   "outputs": [],
   "source": [
    "scores = croos_val_score(clf,embeddings, art['Article_type'], cv=5)"
   ]
  },
  {
   "cell_type": "code",
   "execution_count": null,
   "id": "7f6a8172-244a-4683-89ce-b1173f279a75",
   "metadata": {},
   "outputs": [],
   "source": [
    "print(f'Cross-validation scores:{scores}')"
   ]
  },
  {
   "cell_type": "code",
   "execution_count": null,
   "id": "3ba19577-f633-4fdb-9df6-e103579b3f0a",
   "metadata": {},
   "outputs": [],
   "source": [
    "print(f'Mean' cross-validation score: {scores.mean()}')"
   ]
  },
  {
   "cell_type": "markdown",
   "id": "6bf208ee-bb8b-48ab-8a81-f4dfc03ac057",
   "metadata": {},
   "source": [
    "### Performance Metrics\n"
   ]
  },
  {
   "cell_type": "code",
   "execution_count": null,
   "id": "2f22c3cf-3284-42dc-9e97-08dd58cede1e",
   "metadata": {},
   "outputs": [],
   "source": [
    "from sklearn.metrics import accuracy_score, precision_score, recall_score, f1_score, classification_report\n",
    "\n",
    "# Assuming y_test are the true labels and y_pred are the predicted labels\n",
    "accuracy = accuracy_score(y_test, y_pred)\n",
    "precision = precision_score(y_test, y_pred, average='weighted')  \n",
    "recall = recall_score(y_test, y_pred, average='weighted')       \n",
    "f1 = f1_score(y_test, y_pred, average='weighted')                \n",
    "\n",
    "print(f'Accuracy: {accuracy:.2f}')\n",
    "print(f'Precision: {precision:.2f}')\n",
    "print(f'Recall: {recall:.2f}')\n",
    "print(f'F1-Score: {f1:.2f}')\n",
    "\n",
    "# Detailed classification report\n",
    "print('Classification Report:')\n",
    "print(classification_report(y_test, y_pred))"
   ]
  },
  {
   "cell_type": "code",
   "execution_count": null,
   "id": "ed38f68a-a3a9-4451-86ce-58abbf0b2fc0",
   "metadata": {},
   "outputs": [],
   "source": [
    "### Save and Reload the model"
   ]
  },
  {
   "cell_type": "code",
   "execution_count": null,
   "id": "3b3d324b-be35-4688-b3cd-c6f0c3c27dbd",
   "metadata": {},
   "outputs": [],
   "source": [
    "import joblib\n",
    "\n",
    "# Save the model\n",
    "joblib.dump(clf, 'text_classifier_model.pkl')\n",
    "\n",
    "# Load the model\n",
    "loaded_clf = joblib.load('text_classifier_model.pkl')"
   ]
  },
  {
   "cell_type": "markdown",
   "id": "7797e712-0d51-4025-9bca-254d340e6af8",
   "metadata": {},
   "source": [
    "### Create an API Endpoint"
   ]
  },
  {
   "cell_type": "code",
   "execution_count": null,
   "id": "bb8c5896-23d4-4884-96cc-8b55636d67be",
   "metadata": {},
   "outputs": [],
   "source": [
    "from flask import Flask, request, jsonify\n",
    "import joblib\n",
    "from sentence_transformers import SentenceTransformer\n",
    "\n",
    "app = Flask(__name__)\n",
    "\n",
    "# Load model and tokenizer\n",
    "model = joblib.load('text_classifier_model.pkl')\n",
    "tokenizer = SentenceTransformer('paraphrase-MiniLM-L6-v2')\n",
    "\n",
    "@app.route('/predict', methods=['POST'])\n",
    "def predict():\n",
    "    data = request.json\n",
    "    text = data['text']\n",
    "    cleaned_text = clean_text(text)\n",
    "    embedding = tokenizer.encode([cleaned_text])\n",
    "    prediction = model.predict(embedding)\n",
    "    return jsonify({'prediction': prediction[0]})\n",
    "\n",
    "if __name__ == '__main__':\n",
    "    app.run(debug=True)\n"
   ]
  },
  {
   "cell_type": "markdown",
   "id": "6cc51b2a-a342-479a-b93f-c13afa083c5a",
   "metadata": {},
   "source": [
    "### Extract Data from unknown_articles.csv"
   ]
  },
  {
   "cell_type": "code",
   "execution_count": null,
   "id": "2461d83f-b4d9-4d43-8708-de42768dd8c1",
   "metadata": {},
   "outputs": [],
   "source": [
    "unknown_df = pd.read_csv('unknown_articles.csv')\n",
    "# Extract headings and full articles\n",
    "# Implement necessary preprocessing here\n",
    "\n"
   ]
  },
  {
   "cell_type": "code",
   "execution_count": null,
   "id": "5eb867c2-732a-4833-933a-bcd49d58d9ed",
   "metadata": {},
   "outputs": [],
   "source": [
    "# Assuming preprocessing and embedding as above\n",
    "new_embeddings = tokenizer.encode(unknown_df['full_article'].tolist())\n",
    "predictions = model.predict(new_embeddings)"
   ]
  },
  {
   "cell_type": "markdown",
   "id": "09f87221-d4a2-4d10-be3d-b0f408aead83",
   "metadata": {},
   "source": [
    "## Thank You"
   ]
  },
  {
   "cell_type": "code",
   "execution_count": null,
   "id": "ac4e67af-5ca2-449e-bcce-79c675c5a917",
   "metadata": {},
   "outputs": [],
   "source": []
  }
 ],
 "metadata": {
  "kernelspec": {
   "display_name": "Python 3 (ipykernel)",
   "language": "python",
   "name": "python3"
  },
  "language_info": {
   "codemirror_mode": {
    "name": "ipython",
    "version": 3
   },
   "file_extension": ".py",
   "mimetype": "text/x-python",
   "name": "python",
   "nbconvert_exporter": "python",
   "pygments_lexer": "ipython3",
   "version": "3.11.7"
  }
 },
 "nbformat": 4,
 "nbformat_minor": 5
}
